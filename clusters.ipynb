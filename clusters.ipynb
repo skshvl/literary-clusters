{
 "cells": [
  {
   "cell_type": "code",
   "execution_count": 1,
   "id": "78be9360-1c73-49ea-9098-7307939fed6a",
   "metadata": {},
   "outputs": [],
   "source": [
    "\n",
    "import pandas as pd\n",
    "from collections import defaultdict\n",
    "from collections import Counter\n",
    "import numpy as np"
   ]
  },
  {
   "cell_type": "code",
   "execution_count": 2,
   "id": "0cbf0fd3-0da1-4f3b-b677-e09e32fe4ea2",
   "metadata": {},
   "outputs": [],
   "source": [
    "#create pd dataframes\n",
    "\n",
    "bk_df = pd.read_csv('books.csv')\n",
    "rt_df = pd.read_csv('ratings.csv')\n",
    "tr_df = pd.read_csv('to_read.csv')\n",
    "\n",
    "bk_df.authors = [authors.split(\",\")[0] for authors in bk_df.authors] #delete all but LEAD authors for simplicity\n",
    "\n",
    "#keep only users who have more than 160 ratings + rt\n",
    "combi_df = pd.concat([rt_df, tr_df], ignore_index = True) #a dataframe of all ratings or book listings\n",
    "total_entry_counts = Counter(combi_df.user_id)\n",
    "total_entries_list = [total_entry_counts[user_id] for user_id in combi_df.user_id]\n",
    "combi_df['total_user_entries'] = total_entries_list"
   ]
  },
  {
   "cell_type": "code",
   "execution_count": 3,
   "id": "dde37205-71ad-40ee-b1dd-19871107fb21",
   "metadata": {},
   "outputs": [],
   "source": [
    "NR_CLUSTERS = 30\n",
    "MIN_COUNT_IMPORTANT_AUTHOR = 100 #min total entries for an author to be considered a defining author of any cluster\n",
    "MIN_COUNT_IMPORTANT_BOOK = 50 #min total entries for a book to be considered a defining book of any cluster\n",
    "TOP_N = 10\n",
    "\n",
    "#finding the cutoff for which users to consider\n",
    "MIN_USER_RATINGS = 50\n",
    "MAX_USER_RATINGS = 83"
   ]
  },
  {
   "cell_type": "code",
   "execution_count": 4,
   "id": "69bb38f3-2034-437d-a245-3b5b97d4e51f",
   "metadata": {},
   "outputs": [
    {
     "data": {
      "text/html": [
       "<div>\n",
       "<style scoped>\n",
       "    .dataframe tbody tr th:only-of-type {\n",
       "        vertical-align: middle;\n",
       "    }\n",
       "\n",
       "    .dataframe tbody tr th {\n",
       "        vertical-align: top;\n",
       "    }\n",
       "\n",
       "    .dataframe thead th {\n",
       "        text-align: right;\n",
       "    }\n",
       "</style>\n",
       "<table border=\"1\" class=\"dataframe\">\n",
       "  <thead>\n",
       "    <tr style=\"text-align: right;\">\n",
       "      <th></th>\n",
       "      <th>book_id</th>\n",
       "      <th>goodreads_book_id</th>\n",
       "      <th>best_book_id</th>\n",
       "      <th>work_id</th>\n",
       "      <th>books_count</th>\n",
       "      <th>isbn</th>\n",
       "      <th>isbn13</th>\n",
       "      <th>authors</th>\n",
       "      <th>original_publication_year</th>\n",
       "      <th>original_title</th>\n",
       "      <th>...</th>\n",
       "      <th>ratings_count</th>\n",
       "      <th>work_ratings_count</th>\n",
       "      <th>work_text_reviews_count</th>\n",
       "      <th>ratings_1</th>\n",
       "      <th>ratings_2</th>\n",
       "      <th>ratings_3</th>\n",
       "      <th>ratings_4</th>\n",
       "      <th>ratings_5</th>\n",
       "      <th>image_url</th>\n",
       "      <th>small_image_url</th>\n",
       "    </tr>\n",
       "  </thead>\n",
       "  <tbody>\n",
       "    <tr>\n",
       "      <th>0</th>\n",
       "      <td>1</td>\n",
       "      <td>2767052</td>\n",
       "      <td>2767052</td>\n",
       "      <td>2792775</td>\n",
       "      <td>272</td>\n",
       "      <td>439023483</td>\n",
       "      <td>9.780439e+12</td>\n",
       "      <td>Suzanne Collins</td>\n",
       "      <td>2008.0</td>\n",
       "      <td>The Hunger Games</td>\n",
       "      <td>...</td>\n",
       "      <td>4780653</td>\n",
       "      <td>4942365</td>\n",
       "      <td>155254</td>\n",
       "      <td>66715</td>\n",
       "      <td>127936</td>\n",
       "      <td>560092</td>\n",
       "      <td>1481305</td>\n",
       "      <td>2706317</td>\n",
       "      <td>https://images.gr-assets.com/books/1447303603m...</td>\n",
       "      <td>https://images.gr-assets.com/books/1447303603s...</td>\n",
       "    </tr>\n",
       "    <tr>\n",
       "      <th>1</th>\n",
       "      <td>2</td>\n",
       "      <td>3</td>\n",
       "      <td>3</td>\n",
       "      <td>4640799</td>\n",
       "      <td>491</td>\n",
       "      <td>439554934</td>\n",
       "      <td>9.780440e+12</td>\n",
       "      <td>J.K. Rowling</td>\n",
       "      <td>1997.0</td>\n",
       "      <td>Harry Potter and the Philosopher's Stone</td>\n",
       "      <td>...</td>\n",
       "      <td>4602479</td>\n",
       "      <td>4800065</td>\n",
       "      <td>75867</td>\n",
       "      <td>75504</td>\n",
       "      <td>101676</td>\n",
       "      <td>455024</td>\n",
       "      <td>1156318</td>\n",
       "      <td>3011543</td>\n",
       "      <td>https://images.gr-assets.com/books/1474154022m...</td>\n",
       "      <td>https://images.gr-assets.com/books/1474154022s...</td>\n",
       "    </tr>\n",
       "    <tr>\n",
       "      <th>2</th>\n",
       "      <td>3</td>\n",
       "      <td>41865</td>\n",
       "      <td>41865</td>\n",
       "      <td>3212258</td>\n",
       "      <td>226</td>\n",
       "      <td>316015849</td>\n",
       "      <td>9.780316e+12</td>\n",
       "      <td>Stephenie Meyer</td>\n",
       "      <td>2005.0</td>\n",
       "      <td>Twilight</td>\n",
       "      <td>...</td>\n",
       "      <td>3866839</td>\n",
       "      <td>3916824</td>\n",
       "      <td>95009</td>\n",
       "      <td>456191</td>\n",
       "      <td>436802</td>\n",
       "      <td>793319</td>\n",
       "      <td>875073</td>\n",
       "      <td>1355439</td>\n",
       "      <td>https://images.gr-assets.com/books/1361039443m...</td>\n",
       "      <td>https://images.gr-assets.com/books/1361039443s...</td>\n",
       "    </tr>\n",
       "    <tr>\n",
       "      <th>3</th>\n",
       "      <td>4</td>\n",
       "      <td>2657</td>\n",
       "      <td>2657</td>\n",
       "      <td>3275794</td>\n",
       "      <td>487</td>\n",
       "      <td>61120081</td>\n",
       "      <td>9.780061e+12</td>\n",
       "      <td>Harper Lee</td>\n",
       "      <td>1960.0</td>\n",
       "      <td>To Kill a Mockingbird</td>\n",
       "      <td>...</td>\n",
       "      <td>3198671</td>\n",
       "      <td>3340896</td>\n",
       "      <td>72586</td>\n",
       "      <td>60427</td>\n",
       "      <td>117415</td>\n",
       "      <td>446835</td>\n",
       "      <td>1001952</td>\n",
       "      <td>1714267</td>\n",
       "      <td>https://images.gr-assets.com/books/1361975680m...</td>\n",
       "      <td>https://images.gr-assets.com/books/1361975680s...</td>\n",
       "    </tr>\n",
       "    <tr>\n",
       "      <th>4</th>\n",
       "      <td>5</td>\n",
       "      <td>4671</td>\n",
       "      <td>4671</td>\n",
       "      <td>245494</td>\n",
       "      <td>1356</td>\n",
       "      <td>743273567</td>\n",
       "      <td>9.780743e+12</td>\n",
       "      <td>F. Scott Fitzgerald</td>\n",
       "      <td>1925.0</td>\n",
       "      <td>The Great Gatsby</td>\n",
       "      <td>...</td>\n",
       "      <td>2683664</td>\n",
       "      <td>2773745</td>\n",
       "      <td>51992</td>\n",
       "      <td>86236</td>\n",
       "      <td>197621</td>\n",
       "      <td>606158</td>\n",
       "      <td>936012</td>\n",
       "      <td>947718</td>\n",
       "      <td>https://images.gr-assets.com/books/1490528560m...</td>\n",
       "      <td>https://images.gr-assets.com/books/1490528560s...</td>\n",
       "    </tr>\n",
       "    <tr>\n",
       "      <th>...</th>\n",
       "      <td>...</td>\n",
       "      <td>...</td>\n",
       "      <td>...</td>\n",
       "      <td>...</td>\n",
       "      <td>...</td>\n",
       "      <td>...</td>\n",
       "      <td>...</td>\n",
       "      <td>...</td>\n",
       "      <td>...</td>\n",
       "      <td>...</td>\n",
       "      <td>...</td>\n",
       "      <td>...</td>\n",
       "      <td>...</td>\n",
       "      <td>...</td>\n",
       "      <td>...</td>\n",
       "      <td>...</td>\n",
       "      <td>...</td>\n",
       "      <td>...</td>\n",
       "      <td>...</td>\n",
       "      <td>...</td>\n",
       "      <td>...</td>\n",
       "    </tr>\n",
       "    <tr>\n",
       "      <th>9995</th>\n",
       "      <td>9996</td>\n",
       "      <td>7130616</td>\n",
       "      <td>7130616</td>\n",
       "      <td>7392860</td>\n",
       "      <td>19</td>\n",
       "      <td>441019455</td>\n",
       "      <td>9.780441e+12</td>\n",
       "      <td>Ilona Andrews</td>\n",
       "      <td>2010.0</td>\n",
       "      <td>Bayou Moon</td>\n",
       "      <td>...</td>\n",
       "      <td>17204</td>\n",
       "      <td>18856</td>\n",
       "      <td>1180</td>\n",
       "      <td>105</td>\n",
       "      <td>575</td>\n",
       "      <td>3538</td>\n",
       "      <td>7860</td>\n",
       "      <td>6778</td>\n",
       "      <td>https://images.gr-assets.com/books/1307445460m...</td>\n",
       "      <td>https://images.gr-assets.com/books/1307445460s...</td>\n",
       "    </tr>\n",
       "    <tr>\n",
       "      <th>9996</th>\n",
       "      <td>9997</td>\n",
       "      <td>208324</td>\n",
       "      <td>208324</td>\n",
       "      <td>1084709</td>\n",
       "      <td>19</td>\n",
       "      <td>067973371X</td>\n",
       "      <td>9.780680e+12</td>\n",
       "      <td>Robert A. Caro</td>\n",
       "      <td>1990.0</td>\n",
       "      <td>Means of Ascent</td>\n",
       "      <td>...</td>\n",
       "      <td>12582</td>\n",
       "      <td>12952</td>\n",
       "      <td>395</td>\n",
       "      <td>303</td>\n",
       "      <td>551</td>\n",
       "      <td>1737</td>\n",
       "      <td>3389</td>\n",
       "      <td>6972</td>\n",
       "      <td>https://s.gr-assets.com/assets/nophoto/book/11...</td>\n",
       "      <td>https://s.gr-assets.com/assets/nophoto/book/50...</td>\n",
       "    </tr>\n",
       "    <tr>\n",
       "      <th>9997</th>\n",
       "      <td>9998</td>\n",
       "      <td>77431</td>\n",
       "      <td>77431</td>\n",
       "      <td>2393986</td>\n",
       "      <td>60</td>\n",
       "      <td>039330762X</td>\n",
       "      <td>9.780393e+12</td>\n",
       "      <td>Patrick O'Brian</td>\n",
       "      <td>1977.0</td>\n",
       "      <td>The Mauritius Command</td>\n",
       "      <td>...</td>\n",
       "      <td>9421</td>\n",
       "      <td>10733</td>\n",
       "      <td>374</td>\n",
       "      <td>11</td>\n",
       "      <td>111</td>\n",
       "      <td>1191</td>\n",
       "      <td>4240</td>\n",
       "      <td>5180</td>\n",
       "      <td>https://images.gr-assets.com/books/1455373531m...</td>\n",
       "      <td>https://images.gr-assets.com/books/1455373531s...</td>\n",
       "    </tr>\n",
       "    <tr>\n",
       "      <th>9998</th>\n",
       "      <td>9999</td>\n",
       "      <td>8565083</td>\n",
       "      <td>8565083</td>\n",
       "      <td>13433613</td>\n",
       "      <td>7</td>\n",
       "      <td>61711527</td>\n",
       "      <td>9.780062e+12</td>\n",
       "      <td>Peggy Orenstein</td>\n",
       "      <td>2011.0</td>\n",
       "      <td>Cinderella Ate My Daughter: Dispatches from th...</td>\n",
       "      <td>...</td>\n",
       "      <td>11279</td>\n",
       "      <td>11994</td>\n",
       "      <td>1988</td>\n",
       "      <td>275</td>\n",
       "      <td>1002</td>\n",
       "      <td>3765</td>\n",
       "      <td>4577</td>\n",
       "      <td>2375</td>\n",
       "      <td>https://images.gr-assets.com/books/1279214118m...</td>\n",
       "      <td>https://images.gr-assets.com/books/1279214118s...</td>\n",
       "    </tr>\n",
       "    <tr>\n",
       "      <th>9999</th>\n",
       "      <td>10000</td>\n",
       "      <td>8914</td>\n",
       "      <td>8914</td>\n",
       "      <td>11817</td>\n",
       "      <td>31</td>\n",
       "      <td>375700455</td>\n",
       "      <td>9.780376e+12</td>\n",
       "      <td>John Keegan</td>\n",
       "      <td>1998.0</td>\n",
       "      <td>The First World War</td>\n",
       "      <td>...</td>\n",
       "      <td>9162</td>\n",
       "      <td>9700</td>\n",
       "      <td>364</td>\n",
       "      <td>117</td>\n",
       "      <td>345</td>\n",
       "      <td>2031</td>\n",
       "      <td>4138</td>\n",
       "      <td>3069</td>\n",
       "      <td>https://images.gr-assets.com/books/1403194704m...</td>\n",
       "      <td>https://images.gr-assets.com/books/1403194704s...</td>\n",
       "    </tr>\n",
       "  </tbody>\n",
       "</table>\n",
       "<p>10000 rows × 23 columns</p>\n",
       "</div>"
      ],
      "text/plain": [
       "      book_id  goodreads_book_id  best_book_id   work_id  books_count  \\\n",
       "0           1            2767052       2767052   2792775          272   \n",
       "1           2                  3             3   4640799          491   \n",
       "2           3              41865         41865   3212258          226   \n",
       "3           4               2657          2657   3275794          487   \n",
       "4           5               4671          4671    245494         1356   \n",
       "...       ...                ...           ...       ...          ...   \n",
       "9995     9996            7130616       7130616   7392860           19   \n",
       "9996     9997             208324        208324   1084709           19   \n",
       "9997     9998              77431         77431   2393986           60   \n",
       "9998     9999            8565083       8565083  13433613            7   \n",
       "9999    10000               8914          8914     11817           31   \n",
       "\n",
       "            isbn        isbn13              authors  \\\n",
       "0      439023483  9.780439e+12      Suzanne Collins   \n",
       "1      439554934  9.780440e+12         J.K. Rowling   \n",
       "2      316015849  9.780316e+12      Stephenie Meyer   \n",
       "3       61120081  9.780061e+12           Harper Lee   \n",
       "4      743273567  9.780743e+12  F. Scott Fitzgerald   \n",
       "...          ...           ...                  ...   \n",
       "9995   441019455  9.780441e+12        Ilona Andrews   \n",
       "9996  067973371X  9.780680e+12       Robert A. Caro   \n",
       "9997  039330762X  9.780393e+12      Patrick O'Brian   \n",
       "9998    61711527  9.780062e+12      Peggy Orenstein   \n",
       "9999   375700455  9.780376e+12          John Keegan   \n",
       "\n",
       "      original_publication_year  \\\n",
       "0                        2008.0   \n",
       "1                        1997.0   \n",
       "2                        2005.0   \n",
       "3                        1960.0   \n",
       "4                        1925.0   \n",
       "...                         ...   \n",
       "9995                     2010.0   \n",
       "9996                     1990.0   \n",
       "9997                     1977.0   \n",
       "9998                     2011.0   \n",
       "9999                     1998.0   \n",
       "\n",
       "                                         original_title  ... ratings_count  \\\n",
       "0                                      The Hunger Games  ...       4780653   \n",
       "1              Harry Potter and the Philosopher's Stone  ...       4602479   \n",
       "2                                              Twilight  ...       3866839   \n",
       "3                                 To Kill a Mockingbird  ...       3198671   \n",
       "4                                      The Great Gatsby  ...       2683664   \n",
       "...                                                 ...  ...           ...   \n",
       "9995                                         Bayou Moon  ...         17204   \n",
       "9996                                   Means of Ascent   ...         12582   \n",
       "9997                              The Mauritius Command  ...          9421   \n",
       "9998  Cinderella Ate My Daughter: Dispatches from th...  ...         11279   \n",
       "9999                                The First World War  ...          9162   \n",
       "\n",
       "     work_ratings_count  work_text_reviews_count  ratings_1  ratings_2  \\\n",
       "0               4942365                   155254      66715     127936   \n",
       "1               4800065                    75867      75504     101676   \n",
       "2               3916824                    95009     456191     436802   \n",
       "3               3340896                    72586      60427     117415   \n",
       "4               2773745                    51992      86236     197621   \n",
       "...                 ...                      ...        ...        ...   \n",
       "9995              18856                     1180        105        575   \n",
       "9996              12952                      395        303        551   \n",
       "9997              10733                      374         11        111   \n",
       "9998              11994                     1988        275       1002   \n",
       "9999               9700                      364        117        345   \n",
       "\n",
       "      ratings_3  ratings_4  ratings_5  \\\n",
       "0        560092    1481305    2706317   \n",
       "1        455024    1156318    3011543   \n",
       "2        793319     875073    1355439   \n",
       "3        446835    1001952    1714267   \n",
       "4        606158     936012     947718   \n",
       "...         ...        ...        ...   \n",
       "9995       3538       7860       6778   \n",
       "9996       1737       3389       6972   \n",
       "9997       1191       4240       5180   \n",
       "9998       3765       4577       2375   \n",
       "9999       2031       4138       3069   \n",
       "\n",
       "                                              image_url  \\\n",
       "0     https://images.gr-assets.com/books/1447303603m...   \n",
       "1     https://images.gr-assets.com/books/1474154022m...   \n",
       "2     https://images.gr-assets.com/books/1361039443m...   \n",
       "3     https://images.gr-assets.com/books/1361975680m...   \n",
       "4     https://images.gr-assets.com/books/1490528560m...   \n",
       "...                                                 ...   \n",
       "9995  https://images.gr-assets.com/books/1307445460m...   \n",
       "9996  https://s.gr-assets.com/assets/nophoto/book/11...   \n",
       "9997  https://images.gr-assets.com/books/1455373531m...   \n",
       "9998  https://images.gr-assets.com/books/1279214118m...   \n",
       "9999  https://images.gr-assets.com/books/1403194704m...   \n",
       "\n",
       "                                        small_image_url  \n",
       "0     https://images.gr-assets.com/books/1447303603s...  \n",
       "1     https://images.gr-assets.com/books/1474154022s...  \n",
       "2     https://images.gr-assets.com/books/1361039443s...  \n",
       "3     https://images.gr-assets.com/books/1361975680s...  \n",
       "4     https://images.gr-assets.com/books/1490528560s...  \n",
       "...                                                 ...  \n",
       "9995  https://images.gr-assets.com/books/1307445460s...  \n",
       "9996  https://s.gr-assets.com/assets/nophoto/book/50...  \n",
       "9997  https://images.gr-assets.com/books/1455373531s...  \n",
       "9998  https://images.gr-assets.com/books/1279214118s...  \n",
       "9999  https://images.gr-assets.com/books/1403194704s...  \n",
       "\n",
       "[10000 rows x 23 columns]"
      ]
     },
     "execution_count": 4,
     "metadata": {},
     "output_type": "execute_result"
    }
   ],
   "source": [
    "bk_df"
   ]
  },
  {
   "cell_type": "code",
   "execution_count": 5,
   "id": "60130e70-cff7-489d-8fa6-11e69447de0b",
   "metadata": {},
   "outputs": [
    {
     "name": "stdout",
     "output_type": "stream",
     "text": [
      "(174097, 4)\n"
     ]
    }
   ],
   "source": [
    "combi_df = combi_df[(combi_df[\"total_user_entries\"] >= MIN_USER_RATINGS) & (combi_df[\"total_user_entries\"] <= MAX_USER_RATINGS)]\n",
    "print(combi_df.shape)"
   ]
  },
  {
   "cell_type": "code",
   "execution_count": 6,
   "id": "c0744caa-79c7-4ccd-9b75-34c861f6b8ea",
   "metadata": {},
   "outputs": [
    {
     "data": {
      "text/html": [
       "<div>\n",
       "<style scoped>\n",
       "    .dataframe tbody tr th:only-of-type {\n",
       "        vertical-align: middle;\n",
       "    }\n",
       "\n",
       "    .dataframe tbody tr th {\n",
       "        vertical-align: top;\n",
       "    }\n",
       "\n",
       "    .dataframe thead th {\n",
       "        text-align: right;\n",
       "    }\n",
       "</style>\n",
       "<table border=\"1\" class=\"dataframe\">\n",
       "  <thead>\n",
       "    <tr style=\"text-align: right;\">\n",
       "      <th></th>\n",
       "      <th>user_id</th>\n",
       "      <th>book_id</th>\n",
       "      <th>rating</th>\n",
       "      <th>total_user_entries</th>\n",
       "    </tr>\n",
       "  </thead>\n",
       "  <tbody>\n",
       "    <tr>\n",
       "      <th>351</th>\n",
       "      <td>25</td>\n",
       "      <td>14</td>\n",
       "      <td>4.0</td>\n",
       "      <td>60</td>\n",
       "    </tr>\n",
       "    <tr>\n",
       "      <th>352</th>\n",
       "      <td>25</td>\n",
       "      <td>8336</td>\n",
       "      <td>4.0</td>\n",
       "      <td>60</td>\n",
       "    </tr>\n",
       "    <tr>\n",
       "      <th>353</th>\n",
       "      <td>25</td>\n",
       "      <td>653</td>\n",
       "      <td>5.0</td>\n",
       "      <td>60</td>\n",
       "    </tr>\n",
       "    <tr>\n",
       "      <th>354</th>\n",
       "      <td>25</td>\n",
       "      <td>5374</td>\n",
       "      <td>4.0</td>\n",
       "      <td>60</td>\n",
       "    </tr>\n",
       "    <tr>\n",
       "      <th>355</th>\n",
       "      <td>25</td>\n",
       "      <td>872</td>\n",
       "      <td>4.0</td>\n",
       "      <td>60</td>\n",
       "    </tr>\n",
       "  </tbody>\n",
       "</table>\n",
       "</div>"
      ],
      "text/plain": [
       "     user_id  book_id  rating  total_user_entries\n",
       "351       25       14     4.0                  60\n",
       "352       25     8336     4.0                  60\n",
       "353       25      653     5.0                  60\n",
       "354       25     5374     4.0                  60\n",
       "355       25      872     4.0                  60"
      ]
     },
     "execution_count": 6,
     "metadata": {},
     "output_type": "execute_result"
    }
   ],
   "source": [
    "combi_df.head()"
   ]
  },
  {
   "cell_type": "code",
   "execution_count": 7,
   "id": "7c36bc75-a641-456a-a676-aa7c3abff4cb",
   "metadata": {},
   "outputs": [
    {
     "data": {
      "text/plain": [
       "2432"
      ]
     },
     "execution_count": 7,
     "metadata": {},
     "output_type": "execute_result"
    }
   ],
   "source": [
    "len(set(combi_df.user_id)) #how many users we winnowed it down to"
   ]
  },
  {
   "cell_type": "code",
   "execution_count": 8,
   "id": "de980a30-beea-4f22-94d2-b7df4bc47fab",
   "metadata": {},
   "outputs": [],
   "source": [
    "#create dictionaries of indexes\n",
    "\n",
    "\n",
    "#set of USERS\n",
    "users_set = set(combi_df.user_id)\n",
    "index2userid = {index:user_id for index, user_id in enumerate(users_set)}\n",
    "userid2index = {user_id:index for index,user_id in index2userid.items()}\n",
    "\n",
    "\n",
    "#set of lead authors of books\n",
    "author_set = set(bk_df.authors)\n",
    "\n",
    "#give each author an index that connects to their name\n",
    "index2author = defaultdict()\n",
    "for index, author in enumerate(author_set):\n",
    "    index2author[index] = author\n",
    "    \n",
    "author2index = {author:index for index, author in index2author.items()}\n",
    "nr_authors = len(index2author)\n",
    "\n",
    "\n",
    "#set of books\n",
    "book_set = set(bk_df.book_id)\n",
    "\n",
    "#give each BOOK an INDEX that connects to their name\n",
    "index2bookid = defaultdict()\n",
    "for index, book_id in enumerate(book_set):\n",
    "    index2bookid[index] = book_id\n",
    "    \n",
    "bookid2index = {book_id:index for index, book_id in index2bookid.items()}\n",
    "nr_books = len(bookid2index)\n",
    "    \n",
    "#connect each book id to the title in a dictionary\n",
    "#connect each book id to the author index\n",
    "bookid2title = defaultdict()\n",
    "bookid2authorindex = defaultdict()\n",
    "for _, row in bk_df.iterrows():\n",
    "    bookid2title[row.book_id] = row.original_title \n",
    "    bookid2authorindex[row.book_id] = author2index[row.authors] #assign work id to the author index in another dictionary\n",
    "    \n"
   ]
  },
  {
   "cell_type": "code",
   "execution_count": 9,
   "id": "32a480fa-7b4b-4dbc-91fe-80d882cf9659",
   "metadata": {},
   "outputs": [
    {
     "name": "stdout",
     "output_type": "stream",
     "text": [
      "We have 3888 authors and 2432 users, considering a total of 174097 user-book interactions.\n"
     ]
    }
   ],
   "source": [
    "nr_users = len(set(combi_df.user_id))\n",
    "user_vectors = np.zeros((nr_users, nr_authors)) #each row is a user, each column is an author\n",
    "\n",
    "for book_id, user_id in zip(combi_df.book_id, combi_df.user_id): #iterate through ratings\n",
    "    author_index = bookid2authorindex[book_id]\n",
    "    user_index = userid2index[user_id]\n",
    "    user_vectors[user_index, author_index] += 1\n",
    "    \n",
    "print(\"We have {} authors and {} users, considering a total of {} user-book interactions.\".format(nr_authors, nr_users, len(combi_df.user_id) ))"
   ]
  },
  {
   "cell_type": "code",
   "execution_count": 10,
   "id": "47dfeeb3-c3fc-4c92-8c11-e6609ec65ca5",
   "metadata": {},
   "outputs": [],
   "source": [
    "#NORMALIZE user vectors\n",
    "\n",
    "empty_users = []\n",
    "\n",
    "for user_index in range(nr_users):\n",
    "    vector_sum = np.sum(user_vectors[user_index, :])\n",
    "    if vector_sum > 0:\n",
    "        user_vectors[user_index] = user_vectors[user_index]/vector_sum\n",
    "    else:\n",
    "        user_vectors[user_index] = np.zeros(nr_authors)\n",
    "\n",
    "#users without any data should be removed from the user vectors\n",
    "for user_id in empty_users:\n",
    "    user_vectors.pop(user_id)\n"
   ]
  },
  {
   "cell_type": "code",
   "execution_count": 11,
   "id": "1c58f488-f489-4ebc-8bf9-61d1594fd34b",
   "metadata": {},
   "outputs": [
    {
     "data": {
      "text/plain": [
       "'Patricia Cornwell'"
      ]
     },
     "execution_count": 11,
     "metadata": {},
     "output_type": "execute_result"
    }
   ],
   "source": [
    "#find the top-shelved author of a specific user\n",
    "index2author[np.argmax(user_vectors[0])]\n"
   ]
  },
  {
   "cell_type": "code",
   "execution_count": null,
   "id": "2e30a9c4-3674-426a-8af7-b8142e5dfa46",
   "metadata": {},
   "outputs": [],
   "source": []
  },
  {
   "cell_type": "code",
   "execution_count": null,
   "id": "42c2306b-6604-4610-9e85-f00b7f1d4aa5",
   "metadata": {},
   "outputs": [],
   "source": []
  },
  {
   "cell_type": "markdown",
   "id": "4dac9454-93f7-4704-9197-abcd908cfdb4",
   "metadata": {},
   "source": [
    "### Clustering"
   ]
  },
  {
   "cell_type": "code",
   "execution_count": 12,
   "id": "44e49086-ec4a-45bc-adae-18bb6f233672",
   "metadata": {},
   "outputs": [],
   "source": [
    "from sklearn.cluster import KMeans"
   ]
  },
  {
   "cell_type": "code",
   "execution_count": null,
   "id": "808dc67a-0e17-436b-ae6b-96c3b777c3f2",
   "metadata": {},
   "outputs": [],
   "source": [
    "\n"
   ]
  },
  {
   "cell_type": "code",
   "execution_count": 13,
   "id": "8f658c29-cb5e-4eb0-b878-de6f6aa043f3",
   "metadata": {},
   "outputs": [],
   "source": [
    "# #define AVERAGE user and subtract from all user vectors to center the whole set of points around the origin\n",
    "\n",
    "# avg_user = np.mean(user_vectors, axis = 0)\n",
    "# avg_user"
   ]
  },
  {
   "cell_type": "code",
   "execution_count": 14,
   "id": "9d6696c9-a630-4952-a7d4-ecc8c0c4d670",
   "metadata": {},
   "outputs": [],
   "source": [
    "kmeans = KMeans(n_clusters=NR_CLUSTERS, random_state=0).fit(user_vectors)\n"
   ]
  },
  {
   "cell_type": "code",
   "execution_count": 15,
   "id": "c36ba77a-e246-4f41-8bd2-a589e83b3940",
   "metadata": {},
   "outputs": [],
   "source": [
    "cluster_counts = Counter(kmeans.labels_) #this is a label corresponding to each user in the user vectors arra1y"
   ]
  },
  {
   "cell_type": "code",
   "execution_count": 16,
   "id": "5cc6f338-0679-46cc-bd0d-fa3bfc4a3692",
   "metadata": {},
   "outputs": [
    {
     "data": {
      "text/plain": [
       "2432"
      ]
     },
     "execution_count": 16,
     "metadata": {},
     "output_type": "execute_result"
    }
   ],
   "source": [
    "len(kmeans.labels_)"
   ]
  },
  {
   "cell_type": "code",
   "execution_count": 17,
   "id": "e7bbc255-a24b-432f-8711-13cf5fa0447f",
   "metadata": {},
   "outputs": [
    {
     "data": {
      "text/plain": [
       "Counter({21: 608,\n",
       "         10: 94,\n",
       "         3: 152,\n",
       "         9: 23,\n",
       "         4: 251,\n",
       "         14: 71,\n",
       "         7: 199,\n",
       "         11: 133,\n",
       "         0: 49,\n",
       "         8: 35,\n",
       "         23: 89,\n",
       "         22: 55,\n",
       "         12: 108,\n",
       "         2: 162,\n",
       "         6: 24,\n",
       "         15: 8,\n",
       "         28: 10,\n",
       "         13: 35,\n",
       "         1: 102,\n",
       "         26: 30,\n",
       "         20: 17,\n",
       "         18: 60,\n",
       "         19: 37,\n",
       "         24: 30,\n",
       "         25: 6,\n",
       "         17: 5,\n",
       "         27: 8,\n",
       "         5: 10,\n",
       "         16: 17,\n",
       "         29: 4})"
      ]
     },
     "execution_count": 17,
     "metadata": {},
     "output_type": "execute_result"
    }
   ],
   "source": [
    "cluster_counts"
   ]
  },
  {
   "cell_type": "code",
   "execution_count": 18,
   "id": "c53fb8f4-ae34-482c-a8fa-f373aa0a73bc",
   "metadata": {},
   "outputs": [],
   "source": [
    "# #subtract average user from each cluster\n",
    "# cluster_centers = [center - avg_user for center in kmeans.cluster_centers_] #these are the cluster centers, MINUS THE AVERAGE USER\n",
    "\n",
    "# #print the top author at the center of each cluster\n",
    "# for cluster_coordinates in cluster_centers:\n",
    "#     print(index2author[np.argmax(cluster_coordinates)])"
   ]
  },
  {
   "cell_type": "code",
   "execution_count": 19,
   "id": "b0ed530c-d65d-47b0-8758-2686206b2e7d",
   "metadata": {},
   "outputs": [
    {
     "data": {
      "text/plain": [
       "array([[ 0.00000000e+00, -6.77626358e-21,  0.00000000e+00, ...,\n",
       "         0.00000000e+00,  1.69406589e-21,  4.33680869e-19],\n",
       "       [ 0.00000000e+00, -1.35525272e-20,  5.42101086e-20, ...,\n",
       "        -1.69406589e-20, -5.08219768e-21,  3.95845143e-03],\n",
       "       [ 0.00000000e+00,  7.71604938e-05,  3.14522941e-04, ...,\n",
       "        -1.35525272e-20, -1.69406589e-21,  1.08420217e-18],\n",
       "       ...,\n",
       "       [ 0.00000000e+00,  0.00000000e+00,  0.00000000e+00, ...,\n",
       "         0.00000000e+00,  0.00000000e+00,  4.62962963e-03],\n",
       "       [ 0.00000000e+00,  0.00000000e+00,  0.00000000e+00, ...,\n",
       "         0.00000000e+00, -1.69406589e-21,  0.00000000e+00],\n",
       "       [ 0.00000000e+00,  0.00000000e+00,  0.00000000e+00, ...,\n",
       "         0.00000000e+00,  0.00000000e+00,  0.00000000e+00]])"
      ]
     },
     "execution_count": 19,
     "metadata": {},
     "output_type": "execute_result"
    }
   ],
   "source": [
    "kmeans.cluster_centers_"
   ]
  },
  {
   "cell_type": "code",
   "execution_count": 20,
   "id": "58d39a66-6a04-42db-91c2-ea1f2be53e04",
   "metadata": {},
   "outputs": [
    {
     "data": {
      "text/plain": [
       "'{32774: 21, 40968: 10, 16: 3, 17: 9, 24595: 4, 32788: 21, 21: 14, 40980: 7, 40981: 11, 24600: 3, 25: 14, 49171: 0, 40987: 4, 32798: 8, 38: 3, 42: 3, 49195: 4, 49197: 23, 48: 22, 16438: 12, 32824: 4, 24633: 2, 59: 3, 32829: 7, 63: 14, 41025: 7, 66: 14, 68: 14, 41028: 2, 70: 22, 41031: 8, 24646: 2, 8260: 2, 74: 6, 77: 3, 78: 3, 80: 3, 49235: 10, 86: 3, 49238: 21, 24664: 21, 91: 14, 8285: 4, 94: 14, '"
      ]
     },
     "execution_count": 20,
     "metadata": {},
     "output_type": "execute_result"
    }
   ],
   "source": [
    "#dictionary of USER_ID to CLUSTER\n",
    "userid2cluster = {index2userid[index] : cluster_label for index, cluster_label in enumerate(kmeans.labels_)}\n",
    "str(userid2cluster)[:400] #preview"
   ]
  },
  {
   "cell_type": "markdown",
   "id": "9d612741-45f5-4e67-99fa-9f35ba3857ff",
   "metadata": {},
   "source": [
    "### Using TF-IDF to find the defining authors and books for each cluster"
   ]
  },
  {
   "cell_type": "code",
   "execution_count": 21,
   "id": "3c4bc475-3621-489d-b901-30e983da61df",
   "metadata": {},
   "outputs": [
    {
     "data": {
      "text/html": [
       "<div>\n",
       "<style scoped>\n",
       "    .dataframe tbody tr th:only-of-type {\n",
       "        vertical-align: middle;\n",
       "    }\n",
       "\n",
       "    .dataframe tbody tr th {\n",
       "        vertical-align: top;\n",
       "    }\n",
       "\n",
       "    .dataframe thead th {\n",
       "        text-align: right;\n",
       "    }\n",
       "</style>\n",
       "<table border=\"1\" class=\"dataframe\">\n",
       "  <thead>\n",
       "    <tr style=\"text-align: right;\">\n",
       "      <th></th>\n",
       "      <th>user_id</th>\n",
       "      <th>book_id</th>\n",
       "      <th>rating</th>\n",
       "      <th>total_user_entries</th>\n",
       "    </tr>\n",
       "  </thead>\n",
       "  <tbody>\n",
       "    <tr>\n",
       "      <th>351</th>\n",
       "      <td>25</td>\n",
       "      <td>14</td>\n",
       "      <td>4.0</td>\n",
       "      <td>60</td>\n",
       "    </tr>\n",
       "    <tr>\n",
       "      <th>352</th>\n",
       "      <td>25</td>\n",
       "      <td>8336</td>\n",
       "      <td>4.0</td>\n",
       "      <td>60</td>\n",
       "    </tr>\n",
       "    <tr>\n",
       "      <th>353</th>\n",
       "      <td>25</td>\n",
       "      <td>653</td>\n",
       "      <td>5.0</td>\n",
       "      <td>60</td>\n",
       "    </tr>\n",
       "    <tr>\n",
       "      <th>354</th>\n",
       "      <td>25</td>\n",
       "      <td>5374</td>\n",
       "      <td>4.0</td>\n",
       "      <td>60</td>\n",
       "    </tr>\n",
       "    <tr>\n",
       "      <th>355</th>\n",
       "      <td>25</td>\n",
       "      <td>872</td>\n",
       "      <td>4.0</td>\n",
       "      <td>60</td>\n",
       "    </tr>\n",
       "  </tbody>\n",
       "</table>\n",
       "</div>"
      ],
      "text/plain": [
       "     user_id  book_id  rating  total_user_entries\n",
       "351       25       14     4.0                  60\n",
       "352       25     8336     4.0                  60\n",
       "353       25      653     5.0                  60\n",
       "354       25     5374     4.0                  60\n",
       "355       25      872     4.0                  60"
      ]
     },
     "execution_count": 21,
     "metadata": {},
     "output_type": "execute_result"
    }
   ],
   "source": [
    "# Getting a 2D array of total author counts for each author and cluster\n",
    "nr_clusters = len(Counter(kmeans.labels_))\n",
    "\n",
    "combi_df.head() #this is the dataframe we will iterate through"
   ]
  },
  {
   "cell_type": "code",
   "execution_count": null,
   "id": "a4d18eee-dfdc-4f70-a6ee-765ff5e72865",
   "metadata": {},
   "outputs": [],
   "source": []
  },
  {
   "cell_type": "code",
   "execution_count": 22,
   "id": "a383e3ce-d513-4099-b675-c70052fc05d6",
   "metadata": {},
   "outputs": [],
   "source": [
    "#create a 2D array with # rows = # of clusters, each column the cluster count for that AUTHOR\n",
    "cluster_author_counts = np.zeros((nr_clusters, nr_authors))\n",
    "\n",
    "#create a 2D array with # rows = # of clusters, each column the cluster count for that BOOK\n",
    "cluster_book_counts = np.zeros((nr_clusters, nr_books))\n",
    "\n",
    "total_entries_by_author = np.zeros(nr_authors)\n",
    "total_entries_by_book = np.zeros(nr_books)\n",
    "total_entries_by_cluster = np.zeros(nr_clusters)\n",
    "for book_id, user_id in zip(combi_df.book_id, combi_df.user_id): #iterate through each rating/shelving\n",
    "    \n",
    "    #author counts\n",
    "    author_index = bookid2authorindex[book_id] #get author index of the book\n",
    "    total_entries_by_author[author_index] += 1 #add to that author's total count\n",
    "    total_entries_by_cluster[userid2cluster[user_id]] += 1 #add to cluster's total entry count\n",
    "    \n",
    "    cluster_author_counts[userid2cluster[user_id], bookid2authorindex[book_id]] += 1 #add to that author's count for the relevant cluste\n",
    "    \n",
    "    #book counts\n",
    "    book_index = bookid2index[book_id] #get  index of the book\n",
    "    total_entries_by_book[book_index] += 1 #add to that author's total count\n",
    "    cluster_book_counts[userid2cluster[user_id], book_index] += 1 #add to that author's count for the relevant cluste\n",
    "    \n",
    "total_entry_count = len(combi_df.book_id)\n",
    "    "
   ]
  },
  {
   "cell_type": "code",
   "execution_count": 23,
   "id": "97939987-6105-4c5b-b5e1-ebbf512ff36d",
   "metadata": {},
   "outputs": [
    {
     "data": {
      "text/plain": [
       "True"
      ]
     },
     "execution_count": 23,
     "metadata": {},
     "output_type": "execute_result"
    }
   ],
   "source": [
    "np.sum(cluster_author_counts[:,0]) == total_entries_by_author[0] #make sure the sum of each author's entry counts by cluster is the same as the total entries for author"
   ]
  },
  {
   "cell_type": "code",
   "execution_count": null,
   "id": "b2ca1dd1-10af-44ef-9840-c6d3be29e459",
   "metadata": {},
   "outputs": [],
   "source": []
  },
  {
   "cell_type": "markdown",
   "id": "395a9d16-9d05-4948-b693-466b53a5c4a8",
   "metadata": {},
   "source": [
    "### Uniqueness score for authors"
   ]
  },
  {
   "cell_type": "code",
   "execution_count": 24,
   "id": "c12eeb4c-1f07-4fb6-9314-77229b36c90e",
   "metadata": {},
   "outputs": [],
   "source": [
    "# Calculate TF-IDF-LIKE score for each author in each cluster\n",
    "\n",
    "# FORMULA: tf = author count in cluster / total cluster entries\n",
    "#.  df = author count in whole corpus / total entries\n",
    "\n",
    "cluster_author_uniqueness = np.zeros((nr_clusters, nr_authors))\n",
    "\n",
    "#loop thtoruh geach cluster-author pair\n",
    "for cluster in range(nr_clusters):\n",
    "    for author_index in range(nr_authors):\n",
    "        \n",
    "        #frequency of that author in that cluster: nr occurences of author in cluster / total nr of entries in cluster\n",
    "        tf = cluster_author_counts[cluster, author_index] / total_entries_by_cluster[cluster]\n",
    "        \n",
    "        #document frequency: nr occurences of author in cluster / total entries for author in whole corpus\n",
    "        if total_entries_by_author[author_index] > MIN_COUNT_IMPORTANT_AUTHOR: #make sure author actually is rated\n",
    "            idf = total_entry_count / total_entries_by_author[author_index]\n",
    "            score = tf*idf\n",
    "        else:\n",
    "            score = 0 #unrated authors get a score of 0\n",
    "        \n",
    "        #now ccalculate uniqueness score\n",
    "        cluster_author_uniqueness[cluster, author_index] = score"
   ]
  },
  {
   "cell_type": "code",
   "execution_count": 25,
   "id": "ddb393ff-1c09-414b-b421-9fc949b568e7",
   "metadata": {},
   "outputs": [],
   "source": [
    "#Counter(cluster_author_uniqueness[0])"
   ]
  },
  {
   "cell_type": "code",
   "execution_count": 26,
   "id": "3cd7f804-c4c9-486a-bf7c-5ca5edbc6644",
   "metadata": {},
   "outputs": [
    {
     "name": "stdout",
     "output_type": "stream",
     "text": [
      "['Jessica Sorensen', 'J.A. Redmerski', 'Katie Ashley', 'Katy Evans', 'Jay Crownover', 'Nicole  Williams', 'Aurora Rose Reynolds', 'Tijan', 'Kristen Proby', 'Abbi Glines']\n",
      "['Julie Kagawa', 'Lauren Kate', 'Cassandra Clare', 'Kami Garcia', 'L.J. Smith', 'Sarah J. Maas', 'Kelley Armstrong', 'Sara Shepard', 'P.C. Cast', 'Richelle Mead']\n",
      "['Daniel Kahneman', 'Charles Duhigg', 'Michael   Lewis', 'Anthony Robbins', 'Chip Heath', 'Dan Ariely', 'Daniel H. Pink', 'Nassim Nicholas Taleb', 'Seth Godin', 'James C. Collins']\n",
      "['Charles Bukowski', 'William Faulkner', 'Albert Camus', 'Fyodor Dostoyevsky', 'Franz Kafka', 'José Saramago', 'Jean-Paul Sartre', 'Haruki Murakami', 'Italo Calvino', 'Milan Kundera']\n",
      "['Erin Hunter', 'Chetan Bhagat', 'John Tiffany', 'Jonathan Stroud', 'Orson Scott Card', 'Christopher Paolini', 'Andrea Hirata', 'Michael Scott', 'Dee Lestari', 'J.K. Rowling']\n",
      "['J.D. Robb', 'Deborah Harkness', 'Anne Rice', 'Sherrilyn Kenyon', 'Kristin Hannah', 'Daniel Silva', 'Julie Garwood', 'Judith McNaught', 'Janet Evanovich', 'Nora Roberts']\n",
      "['Sophie Kinsella', 'Jeffrey Archer', 'Jane Green', 'Cecelia Ahern', 'Michael Scott', 'Laura Ingalls Wilder', 'Enid Blyton', 'Amish Tripathi', 'Chetan Bhagat', 'Sidney Sheldon']\n",
      "['Helen Fielding', 'Sophie Kinsella', 'Jane Green', 'Jodi Picoult', 'Liane Moriarty', 'Marian Keyes', 'Emily Giffin', 'Karin Slaughter', 'Lisa Gardner', 'Jennifer Weiner']\n",
      "['Nalini Singh', 'David Eddings', 'Belle Aurora', 'Olivia Cunning', 'Aurora Rose Reynolds', 'R.L. Mathewson', 'Maya Banks', 'Joanna Wylde', 'Madeline Sheehan', 'Kristen Ashley']\n",
      "['David Baldacci', 'Nick Hornby', 'Michael Crichton', 'Andrea Hirata', 'Ken Follett', 'Francine Rivers', 'Daniel Silva', 'Patricia Cornwell', 'Tom Clancy', 'John Grisham']\n",
      "['Jeff Kinney', 'Rachel Renée Russell', 'Marie Lu', 'Lincoln Peirce', 'Darren Shan', 'Brandon Mull', 'Erin Hunter', 'Anthony Horowitz', 'John Flanagan', 'Rick Riordan']\n",
      "['Lisa Kleypas', 'Georgia Cates', 'Katie Ashley', 'Gail McHugh', 'Cherrie Lynn', 'Olivia Cunning', 'Jodi Ellen Malpas', 'J. Kenner', 'Judith McNaught', 'Raine Miller']\n",
      "['Alaa Al Aswany', 'Radwa Ashour', 'أثير عبدالله النشمي', 'أحمد خالد توفيق', 'أحلام مستغانمي', 'أحمد مراد', 'يوسف زيدان', 'محمد صادق', 'حسن الجندي', 'Essam Youssef']\n",
      "['Kresley Cole', 'Jeffrey Archer', 'Patrick Süskind', 'Amish Tripathi', 'Andrea Hirata', 'Arthur Conan Doyle', 'Enid Blyton', 'Dee Lestari', 'R.L. Stine', 'Agatha Christie']\n",
      "['Shel Silverstein', 'Antoine de Saint-Exupéry', 'Patrick Süskind', 'Milan Kundera', 'Jean-Paul Sartre', 'Jules Verne', 'Kahlil Gibran', 'Jostein Gaarder', 'Richard Bach', 'Paulo Coelho']\n",
      "['Sara Gruen', 'Laurell K. Hamilton', 'Nalini Singh', 'Nora Roberts', 'Karen Kingsbury', 'Karin Slaughter', 'Janet Evanovich', 'Sherrilyn Kenyon', 'Ilona Andrews', 'J.D. Robb']\n",
      "['Jennifer Probst', 'Cherrie Lynn', 'Philippa Gregory', 'Tina Reber', 'Tammara Webber', 'Meredith Wild', 'Lisa Gardner', 'Karin Slaughter', 'Charlaine Harris', 'Janet Evanovich']\n",
      "['Yana Toboso', 'Jonathan Stroud', 'Kurt Vonnegut Jr.', 'Brandon Sanderson', 'Patrick Rothfuss', 'Isaac Asimov', 'Chuck Palahniuk', 'Robert Jordan', 'David Eddings', 'Terry Pratchett']\n",
      "['Dean Koontz', 'Daniel Silva', 'Vince Flynn', 'Patricia Cornwell', 'Harlan Coben', 'Jo Nesbø', 'James Patterson', 'David Baldacci', 'Michael Connelly', 'Lee Child']\n",
      "['Amish Tripathi', 'Tammara Webber', 'Jodi Picoult', 'Cecelia Ahern', 'Jeffrey Archer', 'Emily Giffin', 'Sarah Dessen', 'Karen Kingsbury', 'Kristin Hannah', 'Nicholas Sparks']\n",
      "['Richelle Mead', 'Charlaine Harris', 'Sara Shepard', 'Patricia Briggs', 'Karen Marie Moning', 'Jeaniene Frost', 'Lara Adrian', 'Gena Showalter', 'J.R. Ward', 'Kresley Cole']\n",
      "['Grant Morrison', 'John Berger', 'E.H. Gombrich', 'Laura Joffe Numeroff', 'Brian K. Vaughan', \"Bryan Lee O'Malley\", 'Brian Froud', 'Betty Edwards', 'Phaidon Press', 'Ross King']\n",
      "['يوسف زيدان', 'سعود السنعوسي', 'Italo Calvino', 'Alexandre Dumas', 'James Joyce', 'Elif Shafak', 'Daniel Defoe', 'Charles Dickens', 'Virginia Woolf', 'William Shakespeare']\n",
      "['Erin Watt', 'Whitney G.', 'Elle Kennedy', 'Penelope Douglas', 'Mia Sheridan', 'Penelope Ward', 'Amy Harmon', 'Colleen Hoover', 'Brittainy C. Cherry', 'Tarryn Fisher']\n",
      "['Frank Miller', 'Grant Morrison', 'Anne Rice', 'Thomas Harris', 'Erik Larson', 'Tim LaHaye', 'Patricia Cornwell', 'Joe Hill', 'Dean Koontz', 'Stephen King']\n",
      "['Meredith Wild', 'CLAMP', 'Laurell K. Hamilton', 'Jeaniene Frost', 'Gena Showalter', 'Patricia Briggs', 'Nalini Singh', 'Lara Adrian', 'J.R. Ward', 'Sherrilyn Kenyon']\n",
      "['Sarah Dessen', 'Lincoln Peirce', 'Rachel Renée Russell', 'Kate DiCamillo', 'Louis Sachar', 'Jeff Kinney', 'Darren Shan', 'Ally Carter', 'R.L. Stine', 'Lemony Snicket']\n",
      "['Douglas Adams', 'John Gray', 'Mitch Albom', 'أحلام مستغانمي', 'سعود السنعوسي', 'أثير عبدالله النشمي', 'Roald Dahl', 'Jeffrey Archer', 'R.L. Stine', 'Agatha Christie']\n",
      "['Deborah Harkness', 'Ally Condie', 'Kylie Scott', 'Alice Clayton', 'Lauren Kate', 'Judith McNaught', 'Patricia Briggs', 'Charlaine Harris', 'Ilona Andrews', 'Laurell K. Hamilton']\n",
      "['Michael Crichton', 'Sophie Kinsella', 'Christopher Paolini', 'Mark Haddon', 'John Grisham', 'Laura Ingalls Wilder', 'Andrea Hirata', 'Enid Blyton', 'Agatha Christie', 'Sidney Sheldon']\n"
     ]
    }
   ],
   "source": [
    "for cluster_scores in cluster_author_uniqueness:\n",
    "    top_idx = np.argsort(cluster_scores)[-TOP_N:]\n",
    "    top_values = [index2author[i] for i in top_idx]\n",
    "    print(top_values)\n",
    "    #print(index2author[np.argmax(cluster_coordinates)])"
   ]
  },
  {
   "cell_type": "markdown",
   "id": "f5158ca3-d84d-4845-8624-b6a1cf64bfba",
   "metadata": {},
   "source": [
    "### Uniqueness score for books"
   ]
  },
  {
   "cell_type": "code",
   "execution_count": 27,
   "id": "cf461f8e-1c47-4691-be2f-d91b2d046dc2",
   "metadata": {},
   "outputs": [
    {
     "name": "stdout",
     "output_type": "stream",
     "text": [
      "['Come Away with Me', nan, 'One Week Girlfriend', nan, 'Fallen Too Far (Too Far, #1)', 'Never Too Far (Too Far, #2)', 'Breathe', 'Forever Too Far (Too Far, #3)', 'The Vincent Brothers (The Vincent Boys, #1)', 'Twisted Perfection (Perfection, #1)']\n",
      "['Fallen', 'Beautiful Creatures', 'Throne of Glass', 'Clockwork Angel', 'City of Ashes', 'City of Glass', nan, 'City of Lost Souls', 'Marked', 'City of Fallen Angels']\n",
      "['The 4-Hour Workweek: Escape 9-5, Live Anywhere, and Join the New Rich', 'Predictably Irrational: The Hidden Forces that Shape Our Decisions', 'The Black Swan: The Impact of the Highly Improbable', 'Influence: The Psychology of Persuasion', \"Good to Great: Why Some Companies Make the Leap... and Others Don't\", 'The Magic of Thinking Big', 'Drive: The Surprising Truth About What Motivates Us', 'The Lean Startup\\u200e', 'Built to Last: Successful Habits of Visionary Companies', 'Made to Stick: Why Some Ideas Survive and Others Die']\n",
      "['بوف کور', ' سمفونی مردگان', 'Nine Stories', 'Идиот', 'La peste', 'La Nausée', 'Мастер и Маргарита', 'Ansichten eines Clowns', 'ねじまき鳥クロニクル [Nejimakidori kuronikuru]', 'Der Prozeß']\n",
      "['Fantastic Beasts and Where to Find Them', 'Supernova: Petir', 'The Tales of Beedle the Bard', '5 cm', 'Harry Potter and the Prisoner of Azkaban', 'Harry Potter and the Goblet of Fire', 'Harry Potter and the Chamber of Secrets', 'Harry Potter and the Order of the Phoenix', 'Harry Potter and the Deathly Hallows', 'Harry Potter and the Half-Blood Prince']\n",
      "['Along Came a Spider', 'The Nightingale', 'Dark Places', 'One With You', nan, 'Allegiant', 'The Pelican Brief', 'The Client', 'A Discovery of Witches', 'One for the Money']\n",
      "['O Zahir', 'The Pelican Brief', 'The Monk Who Sold His Ferrari: A Fable About Fulfilling Your Dreams & Reaching Your Destiny', 'The White Tiger', 'Five Point Someone: What Not to Do at IIT', 'The Immortals of Meluha', 'The Secret of the Nagas.', 'Two States', 'The 3 Mistakes of My Life', 'If Tomorrow Comes']\n",
      "['Divine Secrets of the Ya-Ya Sisterhood', 'Can You Keep a Secret?', 'The Nanny Diaries', 'Confessions of a Shopaholic', 'Anna and the French Kiss', \"I've Got Your Number\", nan, 'Remember Me?', 'The Undomestic Goddess', 'Something Borrowed']\n",
      "['Until November', 'Checkmate (A Neighbor from Hell, #3)', 'Seduction and Snacks (Chocolate Lovers, #1)', \"Reaper's Property\", 'Mystery Man (Dream Man, #1)', 'Knight', 'The Gamble', 'Motorcycle Man', 'Own the Wind', 'Rock Chick']\n",
      "['Supernova: Petir', 'Supernova: Akar', '窓ぎわのトットちゃん', 'Bumi Manusia', 'A Time to Kill', 'The Firm', 'The Pelican Brief', 'The Client', 'The Runaway Jury', 'The Rainmaker']\n",
      "['Hatchet', 'The Sea of Monsters', 'The Battle of the Labyrinth', 'The Last Olympian', \"The Titan's Curse\", 'The Lost Hero', 'The Red Pyramid', 'The Son of Neptune ', 'The Mark of Athena', 'The House of Hades']\n",
      "['Grounded (Up In The Air #3)', 'The Proposition', 'Backstage Pass (Sinners on Tour, #1)', 'Release Me (Stark Trilogy, #1)', 'Beneath This Man ', 'Mile high (Up In The Air #2)', 'Naked', 'This Man Confessed', 'Claim Me', 'All in']\n",
      "['ذاكرة الجسد', 'هيبتا', 'تاكسي: حواديت المشاوير', 'واحة الغروب', '1919', 'قمر على سمرقند', 'النبطي', '1/4 جرام', 'ظل الأفعى', 'محال']\n",
      "['Bumi Manusia', 'O Monte Cinco', 'Supernova: Petir', 'Supernova: Ksatria, Puteri, dan Bintang Jatuh', '窓ぎわのトットちゃん', 'Filosofi Kopi: Kumpulan Cerita dan Prosa Satu Dekade', 'Ayat-ayat Cinta', 'Ten Little Niggers', 'Murder in the Calais Coach', 'The Mysterious Affair at Styles']\n",
      "['O vencedor está só', 'Veronika decide morrer', 'دیوان\\u200e\\u200e [Dīvān]', 'هشت کتاب: مرگِ رنگ. زندگیِ خواب\\u200cه. آوارِ آفتاب. شرقِ اندوه. صدای پای آب. مسافر. حجمِ سبز. ما هیچ، ما نگاه', 'A Bruxa de Portobello', 'Na margem do rio Piedra eu sentei e chorei', 'O Demônio e a Srta. Prym', 'O Zahir', 'O Monte Cinco', 'Brida']\n",
      "['The Baller: A Down and Dirty Football Novel', 'Hollywood Dirt', 'The Rainmaker', 'Dark Places', nan, nan, 'Safe Haven', 'The Runaway Jury', 'One for the Money', 'Dead Until Dark']\n",
      "['Effortless', 'Captivated by You', 'Losing It', 'Love Unscripted (Love, #1)', 'The Marriage Bargain', 'The Vincent Brothers (The Vincent Boys, #1)', nan, 'Along Came a Spider', 'Kiss the Girls', 'One for the Money']\n",
      "['American Gods', '黒執事 I [Kuroshitsuji I]', 'ملحمة الحرافيش', 'Shiver', 'The Name of the Wind', \"Ender's Game\", 'Foundation', 'Zen and the Art of Motorcycle Maintenance', \"Scott Pilgrim, Volume 1: Scott Pilgrim's Precious Little Life\", 'Artemis Fowl']\n",
      "['A Study in Scarlet', 'One for the Money', 'Gone Girl', 'A Time to Kill', 'Unbroken: A World War II Story of Survival, Resilience, and Redemption', 'The Nightingale', 'Flickan som lekte med elden', 'Luftslottet som sprängdes', 'Kiss the Girls', 'Along Came a Spider']\n",
      "[\"My Sister's Keeper\", 'Something Borrowed', 'PS, I Love You', 'The Notebook', 'A Walk to Remember', 'Dear John', 'Safe Haven', 'The Last Song', 'Message in a Bottle', 'The Lucky One']\n",
      "['Hollywood Dirt', 'Claim Me', nan, 'RoomHate', 'Hero', 'The Hook Up', 'Marked', 'Twilight: The Complete Illustrated Movie Companion', 'Dark Lover', 'Lover Awakened (Black Dagger Brotherhood, #3)']\n",
      "['Art Through the Ages ', 'Art & Fear: Observations on the Perils (and Rewards) of Artmaking', \"The Artist's Way: A Spiritual Path to Higher Creativity\", 'Just Kids', 'On Photography', 'Seven Days in the Art World', 'Über das Geistige in der Kunst', 'The Shock of the New', 'The Letters of Vincent van Gogh', 'The Philosophy of Andy Warhol (From A to B and Back Again)']\n",
      "['رجال في الشمس', 'En attendant Godot', 'Gulliver’s Travels', 'رباعيات صلاح جاهين', 'The Tragicall Historie of Hamlet, Prince of Denmark', 'The Tragedy of Macbeth', 'The Tragedy of Othello, The Moor of Venice', \"A Midsummer Night's Dream\", 'The Tragedie of King Lear', 'The Merchant of Venice']\n",
      "['Ugly Love', 'It Ends with Us', 'Hollywood Dirt', 'Losing Hope', 'The Air He Breathes', 'This Girl', nan, 'November 9', 'Never Never', nan]\n",
      "['Jurassic Park', 'The Silence of the Lambs', 'The Devil in the White City: Murder, Magic, and Madness at the Fair that Changed America', 'World War Z: An Oral History of the Zombie War', 'The Shining', 'On Writing: A Memoir of the Craft', 'Carrie', 'The Stand', 'It', 'Misery']\n",
      "['Reasonable Doubt', 'Beauty from Surrender', 'Ella Enchanted', 'Manwhore', 'Backstage Pass (Sinners on Tour, #1)', 'Captivated by You', nan, 'One With You', 'Dark Lover', 'Lover Awakened (Black Dagger Brotherhood, #3)']\n",
      "['Number the Stars', 'The Lorax', \"Greg Heffley's Journal\", 'Cabin Fever', \"Oh, the Places You'll Go!\", 'The Ugly Truth', 'Dog Days', 'Rodrick Rules', 'The Last Straw', 'The Bad Beginning']\n",
      "['لا تحزن', 'Ayat-ayat Cinta', 'فوضى الحواس', 'القرآن\\u200e\\u200e [al-Qurʾān]', 'James and the Giant Peach', '窓ぎわのトットちゃん', 'For One More Day', 'Murder in the Calais Coach', 'Ten Little Niggers', 'The Mysterious Affair at Styles']\n",
      "['Legend', 'The Selection', 'Lick', 'Wallbanger', 'Never Too Far (Too Far, #2)', 'Fallen', 'Lead', 'Play', 'The Thorn Birds', 'Deep']\n",
      "['The Mysterious Affair at Styles', 'Murder in the Calais Coach', 'The Runaway Jury', 'Eldest', 'Laskar Pelangi', 'Maryamah Karpov: Mimpi-mimpi Lintang', 'Ayat-ayat Cinta', 'Edensor', 'Sang Pemimpi', 'If Tomorrow Comes']\n"
     ]
    }
   ],
   "source": [
    "# Calculate TF-IDF-LIKE score for each book in each cluster\n",
    "\n",
    "# FORMULA: tf = book count in cluster / total cluster entries\n",
    "#.  df = book count in whole corpus / total entries\n",
    "\n",
    "cluster_book_uniqueness = np.zeros((nr_clusters, nr_books))\n",
    "\n",
    "#loop thtoruh geach cluster-book pair\n",
    "for cluster in range(nr_clusters):\n",
    "    for book_index in range(nr_books):\n",
    "        \n",
    "        #frequency of that book in that cluster: nr occurences of book in cluster / total nr of entries in cluster\n",
    "        tf = cluster_book_counts[cluster, book_index] / total_entries_by_cluster[cluster]\n",
    "        \n",
    "        #document frequency: nr occurences of book in cluster / total entries for book in whole corpus\n",
    "        if total_entries_by_book[book_index] > MIN_COUNT_IMPORTANT_BOOK: #make sure book actually is rated often enough\n",
    "            idf = total_entry_count / total_entries_by_book[book_index]\n",
    "            score = tf*idf\n",
    "        else:\n",
    "            score = 0 #unrated books get a score of 0\n",
    "        \n",
    "        #now ccalculate uniqueness score\n",
    "        cluster_book_uniqueness[cluster, book_index] = score\n",
    "        \n",
    "for cluster_scores in cluster_book_uniqueness:\n",
    "    top_idx = np.argsort(cluster_scores)[-1*TOP_N:]\n",
    "    top_values = [bookid2title[index2bookid[i]] for i in top_idx]\n",
    "    print(top_values)\n",
    "    #print(index2author[np.argmax(cluster_coordinates)])"
   ]
  },
  {
   "cell_type": "markdown",
   "id": "853710bd-88f8-4d6b-a58d-25ef116092cf",
   "metadata": {},
   "source": [
    "### Cluster report function\n",
    "\n"
   ]
  },
  {
   "cell_type": "code",
   "execution_count": 28,
   "id": "c9f4b2d6-f8c7-4632-b9dc-49a12211a410",
   "metadata": {},
   "outputs": [],
   "source": [
    "def cluster_report(cluster_index):\n",
    "    \"\"\"Give a summary of this cluster\"\"\"\n",
    "    top_books_idx = np.argsort(cluster_book_uniqueness[cluster_index])[-1*TOP_N:]\n",
    "    top_authors_idx = np.argsort(cluster_author_uniqueness[cluster_index])[-1*TOP_N:]\n",
    "    \n",
    "    top_book_values = [bookid2title[index2bookid[i]] for i in top_books_idx]\n",
    "    top_author_values = [index2author[i] for i in top_authors_idx]\n",
    "    \n",
    "    report = \"\"\n",
    "    \n",
    "    report += \">>You have been assigned to user cluster #\"+str(cluster_index)+\"\\n\"\n",
    "    report += \"\\n\\nAbout {}% of the Goodreads community is in this cluster.\".format(100*cluster_counts[cluster_index]/nr_users)\n",
    "    \n",
    "    report += \"\\n\\nThe defining books for this user cluster are:\"\n",
    "    for book in top_book_values:\n",
    "        report+= \"\\n   \"+str(book)\n",
    "        \n",
    "    report += \"\\n\\nThe most defining authors for this user cluster are:\"\n",
    "    for author in top_author_values:\n",
    "        report +=\"\\n   \"+author\n",
    "    report +=\"\\n\"\n",
    "    \n",
    "    return report, cluster_index\n",
    "    \n",
    "#cluster_report(2)"
   ]
  },
  {
   "cell_type": "markdown",
   "id": "cd563803-b3fb-4b1d-9852-8acdc71e592b",
   "metadata": {},
   "source": [
    "### Predicting a new user"
   ]
  },
  {
   "cell_type": "code",
   "execution_count": 29,
   "id": "34e23b83-fcfd-4b23-bb12-aa9e0b93c48f",
   "metadata": {},
   "outputs": [
    {
     "data": {
      "text/plain": [
       "('>>You have been assigned to user cluster #3\\n\\n\\nAbout 6.25% of the Goodreads community is in this cluster.\\n\\nThe defining books for this user cluster are:\\n   بوف کور\\n    سمفونی مردگان\\n   Nine Stories\\n   Идиот\\n   La peste\\n   La Nausée\\n   Мастер и Маргарита\\n   Ansichten eines Clowns\\n   ねじまき鳥クロニクル [Nejimakidori kuronikuru]\\n   Der Prozeß\\n\\nThe most defining authors for this user cluster are:\\n   Charles Bukowski\\n   William Faulkner\\n   Albert Camus\\n   Fyodor Dostoyevsky\\n   Franz Kafka\\n   José Saramago\\n   Jean-Paul Sartre\\n   Haruki Murakami\\n   Italo Calvino\\n   Milan Kundera\\n',\n",
       " 3)"
      ]
     },
     "execution_count": 29,
     "metadata": {},
     "output_type": "execute_result"
    }
   ],
   "source": [
    "new_user_authors = (author2index[\"James Joyce\"],)\n",
    "new_user_vector = np.zeros(nr_authors)\n",
    "for author_index in new_user_authors:\n",
    "    new_user_vector[author_index] = 1\n",
    "new_user_vector\n",
    "cluster_report(kmeans.predict([new_user_vector])[0])"
   ]
  },
  {
   "cell_type": "markdown",
   "id": "1fddf79d-6f4a-4b4f-ada9-c06018b06cae",
   "metadata": {},
   "source": [
    "### Letting a user create their own user vector interactively"
   ]
  },
  {
   "cell_type": "code",
   "execution_count": 49,
   "id": "37bf0606-cbfc-4f6b-9844-6c03f7fa25a1",
   "metadata": {},
   "outputs": [],
   "source": [
    "import ipywidgets as widgets\n",
    "from ipywidgets import interact, interact_manual, fixed, interactive, VBox, HBox, Layout\n",
    "from IPython.display import display, clear_output\n",
    "import matplotlib.pyplot as plt\n",
    "\n"
   ]
  },
  {
   "cell_type": "code",
   "execution_count": 55,
   "id": "ab3da739-9635-44bf-84e0-5d880ddb9d0b",
   "metadata": {},
   "outputs": [
    {
     "data": {
      "application/vnd.jupyter.widget-view+json": {
       "model_id": "2f14fd10c8ca47d6973f36523ab8f87c",
       "version_major": 2,
       "version_minor": 0
      },
      "text/plain": [
       "Image(value=b'\\x89PNG\\r\\n\\x1a\\n\\x00\\x00\\x00\\rIHDR\\x00\\x00\\x03*\\x00\\x00\\x00\\xc8\\x08\\x06\\x00\\x00\\x00\\x07\\xad\\x15…"
      ]
     },
     "metadata": {},
     "output_type": "display_data"
    },
    {
     "data": {
      "application/vnd.jupyter.widget-view+json": {
       "model_id": "f109adb0b5b847929edb8de13e9a2da8",
       "version_major": 2,
       "version_minor": 0
      },
      "text/plain": [
       "HTML(value=\"Welcome to <b>Literary Clusters</b>. <br> Choose up to four authors and tell us how much you like …"
      ]
     },
     "metadata": {},
     "output_type": "display_data"
    },
    {
     "data": {
      "application/vnd.jupyter.widget-view+json": {
       "model_id": "1fe374dbe328478887b731b47e812a32",
       "version_major": 2,
       "version_minor": 0
      },
      "text/plain": [
       "Combobox(value='', description='Pick up to 4 authors:', ensure_option=True, options=('Harry Bernstein', \"Danie…"
      ]
     },
     "metadata": {},
     "output_type": "display_data"
    },
    {
     "data": {
      "application/vnd.jupyter.widget-view+json": {
       "model_id": "e9944b72dcce454795e83617ec5d2a7d",
       "version_major": 2,
       "version_minor": 0
      },
      "text/plain": [
       "HBox(children=(Button(description='Add author', style=ButtonStyle()), Button(description='Reset', style=Button…"
      ]
     },
     "metadata": {},
     "output_type": "display_data"
    },
    {
     "data": {
      "application/vnd.jupyter.widget-view+json": {
       "model_id": "08615ee79da84c098b4aef828bb7c513",
       "version_major": 2,
       "version_minor": 0
      },
      "text/plain": [
       "VBox()"
      ]
     },
     "metadata": {},
     "output_type": "display_data"
    },
    {
     "data": {
      "application/vnd.jupyter.widget-view+json": {
       "model_id": "05a6a3c1846a4982a676844b8b50540d",
       "version_major": 2,
       "version_minor": 0
      },
      "text/plain": [
       "Output()"
      ]
     },
     "metadata": {},
     "output_type": "display_data"
    },
    {
     "data": {
      "application/vnd.jupyter.widget-view+json": {
       "model_id": "7dc2a1c4d2ef47539eb2a110eb32edf3",
       "version_major": 2,
       "version_minor": 0
      },
      "text/plain": [
       "Button(description='Generate report', style=ButtonStyle())"
      ]
     },
     "metadata": {},
     "output_type": "display_data"
    },
    {
     "data": {
      "application/vnd.jupyter.widget-view+json": {
       "model_id": "2e17c02f970446ac91d8737357a53933",
       "version_major": 2,
       "version_minor": 0
      },
      "text/plain": [
       "Output()"
      ]
     },
     "metadata": {},
     "output_type": "display_data"
    }
   ],
   "source": [
    "authors = []\n",
    "\n",
    "style = {'description_width': '130px'}\n",
    "\n",
    "#author entry field\n",
    "author_field = widgets.Combobox(\n",
    "    placeholder='Start typing',\n",
    "    options=list(author2index.keys()),\n",
    "    description='Pick up to 4 authors:',\n",
    "    ensure_option=True,\n",
    "    style = style,\n",
    "    disabled=False)\n",
    "\n",
    "output = widgets.Output()\n",
    "\n",
    "output2 = widgets.Output()\n",
    "\n",
    "\n",
    "#ADD button\n",
    "add_button = widgets.Button(description=\"Add author\")\n",
    "\n",
    "def on_add_clicked(b):\n",
    "    with output:\n",
    "        clear_output()\n",
    "    if len(authors) < 4:\n",
    "        if author_field.value not in authors and author_field.value != \"\":\n",
    "            authors.append(author_field.value)\n",
    "            sliders[len(authors)-1].description = author_labels()[len(authors)-1]\n",
    "        vb_sliders.children = sliders[:len(authors)]\n",
    "    elif len(authors) >= 4:\n",
    "        with output:\n",
    "            print(\"Can't add more than 4 authors!\", authors)\n",
    "\n",
    "add_button.on_click(on_add_clicked)\n",
    "\n",
    "#RESET button\n",
    "reset_button = widgets.Button(description=\"Reset\")\n",
    "\n",
    "def on_reset_clicked(b):\n",
    "    authors.clear()\n",
    "    vb_sliders.children = []\n",
    "    for slider in sliders: slider.value=0.5\n",
    "    with output:\n",
    "        clear_output()   \n",
    "    with output2:\n",
    "        clear_output() \n",
    "        \n",
    "\n",
    "reset_button.on_click(on_reset_clicked)\n",
    "\n",
    "#hbox combining add and reset\n",
    "add_reset = HBox([add_button, reset_button])\n",
    "\n",
    "#pie chart generating function\n",
    "def cluster_pie(target_cluster):\n",
    "    labels = []\n",
    "    explode = []\n",
    "    sizes = []\n",
    "\n",
    "    for cluster, count in cluster_counts.items():\n",
    "        if cluster == target_cluster:\n",
    "            explode.append(0.4)\n",
    "            labels.append(cluster)\n",
    "        else:\n",
    "            explode.append(0)\n",
    "            labels.append(None)\n",
    "        sizes.append(count)\n",
    "\n",
    "    # Plot\n",
    "    plt.pie(sizes, labels=labels, explode = explode)\n",
    "\n",
    "    plt.axis('equal')\n",
    "    plt.show()\n",
    "\n",
    "#compute cluster\n",
    "compute_button = widgets.Button(description=\"Generate report\")\n",
    "def on_compute_clicked(b):\n",
    "    \n",
    "    #create list of authors\n",
    "    new_user_authors = [author2index[author] for author in authors]\n",
    "    \n",
    "    #turn into user vector\n",
    "    new_user_vector = np.zeros(nr_authors)\n",
    "    for idx, author_index in enumerate(new_user_authors):\n",
    "        new_user_vector[author_index] = vb_sliders.children[idx].value\n",
    "        \n",
    "    #predict cluster if any authors are selected currently\n",
    "    if len(authors) > 0:\n",
    "        report, pred_cluster = cluster_report(kmeans.predict([new_user_vector])[0])\n",
    "\n",
    "        with output2:\n",
    "            clear_output()\n",
    "            cluster_pie(pred_cluster)\n",
    "\n",
    "            print(report)\n",
    "        \n",
    "compute_button.on_click(on_compute_clicked)\n",
    "\n",
    "#slider for authors\n",
    "\n",
    "def author_labels():\n",
    "    labels = [\"author 1\", \"author 2\", \"author 3\", \"author 4\"]\n",
    "    authors_list = list(authors)\n",
    "    for index, author in enumerate(authors_list):\n",
    "        labels[index] = author\n",
    "    return labels\n",
    "\n",
    "sliders = [widgets.FloatSlider(min=5, max=10, value=5, step=0.5, style=style, layout = Layout(width='400px')), \n",
    "           widgets.FloatSlider(min=5, max=10, value=5, step=0.5, style=style, layout = Layout(width='400px')), \n",
    "           widgets.FloatSlider(min=5, max=10, value=5, step=0.5, style=style, layout = Layout(width='400px')), \n",
    "           widgets.FloatSlider(min=5, max=10, value=5, step=0.5, style=style, layout = Layout(width='400px'))]\n",
    "\n",
    "vb_sliders = VBox()\n",
    "\n",
    "explanation = widgets.HTML(\n",
    "    value=\"Welcome to <b>Literary Clusters</b>. <br> Choose up to four authors and tell us how much you like them on a scale of 5 (okay) to 10 (amazing). <br>We'll tell you which Goodreads cluster you fit into.\",\n",
    ")\n",
    "\n",
    "\n",
    "file = open(\"logo.png\", \"rb\")\n",
    "image = file.read()\n",
    "logo = widgets.Image(\n",
    "    value=image,\n",
    "    format='png',\n",
    "    width = 380\n",
    ")\n",
    "\n",
    "display(logo, explanation, author_field, add_reset, vb_sliders, output, compute_button, output2)\n",
    "\n",
    "\n",
    "    \n",
    "\n"
   ]
  }
 ],
 "metadata": {
  "kernelspec": {
   "display_name": "Python 3 (ipykernel)",
   "language": "python",
   "name": "python3"
  },
  "language_info": {
   "codemirror_mode": {
    "name": "ipython",
    "version": 3
   },
   "file_extension": ".py",
   "mimetype": "text/x-python",
   "name": "python",
   "nbconvert_exporter": "python",
   "pygments_lexer": "ipython3",
   "version": "3.8.8"
  }
 },
 "nbformat": 4,
 "nbformat_minor": 5
}
